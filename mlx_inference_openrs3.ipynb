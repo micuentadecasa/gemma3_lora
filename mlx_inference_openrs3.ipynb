{
 "cells": [
  {
   "cell_type": "markdown",
   "metadata": {},
   "source": [
    "In this notebook I´m just trying the model openrs3 that is a 1.5B model for reasoning , mainly mathematics questions"
   ]
  },
  {
   "cell_type": "code",
   "execution_count": 1,
   "metadata": {},
   "outputs": [],
   "source": [
    "!pip install -Uqq mlx mlx_lm transformers datasets"
   ]
  },
  {
   "cell_type": "code",
   "execution_count": null,
   "metadata": {},
   "outputs": [],
   "source": [
    "from huggingface_hub import notebook_login\n",
    "notebook_login()"
   ]
  },
  {
   "cell_type": "code",
   "execution_count": 2,
   "metadata": {},
   "outputs": [
    {
     "name": "stderr",
     "output_type": "stream",
     "text": [
      "/Users/luis/.pyenv/versions/3.11.6/lib/python3.11/site-packages/tqdm/auto.py:21: TqdmWarning: IProgress not found. Please update jupyter and ipywidgets. See https://ipywidgets.readthedocs.io/en/stable/user_install.html\n",
      "  from .autonotebook import tqdm as notebook_tqdm\n",
      "Fetching 8 files: 100%|██████████| 8/8 [03:32<00:00, 26.61s/it]\n"
     ]
    }
   ],
   "source": [
    "from mlx_lm import generate, load\n",
    "\n",
    "model, tokenizer = load(\"knoveleng/Open-RS3\")"
   ]
  },
  {
   "cell_type": "code",
   "execution_count": 3,
   "metadata": {},
   "outputs": [
    {
     "data": {
      "text/plain": [
       "'<｜begin▁of▁sentence｜><｜User｜>Why is the sky blue?<｜Assistant｜><think>\\n'"
      ]
     },
     "execution_count": 3,
     "metadata": {},
     "output_type": "execute_result"
    }
   ],
   "source": [
    "messages = [{\"role\": \"user\", \"content\": \"Why is the sky blue?\"}]\n",
    "tokenizer.apply_chat_template(messages, tokenize=False, add_generation_prompt=True)"
   ]
  },
  {
   "cell_type": "markdown",
   "metadata": {},
   "source": [
    "first we try withouth the template, so it won´t think"
   ]
  },
  {
   "cell_type": "code",
   "execution_count": 6,
   "metadata": {},
   "outputs": [
    {
     "name": "stdout",
     "output_type": "stream",
     "text": [
      "==========\n",
      "I'm not sure.\n",
      "The sky is blue because of the light we see. But why is the light we see blue? Because of the color of the molecules in the atmosphere. So, the sky is blue because of the molecules in the atmosphere. But why are the molecules in the atmosphere? Because of the light we see. So, the sky is blue because of the light we see. But why is the light we see blue? Because of the color of the molecules in the atmosphere. So, the sky is blue because of the molecules in the atmosphere. But why are the molecules in the atmosphere? Because of the light we see. So, the sky is blue because of the light we see. But why is the light we see blue? Because of the color of the molecules in the atmosphere. So, the sky is blue because of the molecules in the atmosphere. But why are the molecules in the atmosphere? Because of the light we see. So, the sky is blue because of the light we see. But why is the light we see blue? Because of the color of the molecules in the atmosphere. So, the sky is blue because of the molecules in the atmosphere. But why are the molecules in the atmosphere? Because of the light we see. So\n",
      "==========\n",
      "Prompt: 7 tokens, 5.944 tokens-per-sec\n",
      "Generation: 256 tokens, 17.426 tokens-per-sec\n",
      "Peak memory: 3.843 GB\n"
     ]
    }
   ],
   "source": [
    "# Generating without adding a prompt template manually\n",
    "prompt = \"\"\"\n",
    "Why is the sky blue?\n",
    "\"\"\".strip()\n",
    "response = generate(\n",
    "    model,\n",
    "    tokenizer,\n",
    "    prompt=prompt,\n",
    "    verbose=True,  # Set to True to see the prompt and response\n",
    "    max_tokens=256,\n",
    ")"
   ]
  },
  {
   "cell_type": "markdown",
   "metadata": {},
   "source": [
    "Now we use the template , so it should think"
   ]
  },
  {
   "cell_type": "code",
   "execution_count": 8,
   "metadata": {},
   "outputs": [
    {
     "name": "stdout",
     "output_type": "stream",
     "text": [
      "==========\n",
      "Okay, so I'm trying to figure out why the sky appears blue. I've heard this before, but I'm not exactly sure why it happens. Let me think about what I know. I know that the sky is blue, but why? I guess it has something to do with the color of the light we see. Maybe it's because of the color of the Earth itself. I remember reading that the Earth is blue, so maybe that's part of it.\n",
      "\n",
      "I also remember that light is made up of different colors, like red, orange, yellow, green, blue, indigo, and violet. So, if the Earth is blue, maybe the light we see is a mix of these colors. But why does the sky appear blue specifically? Maybe it's because the light we see is mostly blue, but it's a combination of all the colors.\n",
      "\n",
      "I think it has something to do with the atmosphere. Air is transparent to some colors and opaque to others. I remember that blue light is absorbed by the atmosphere more than red light. So, when sunlight enters the atmosphere, blue light is scattered more than the other colors. That must be why the sky is blue because the blue light is scattered in all directions, making the sky appear blue.\n",
      "\n",
      "Wait,\n",
      "==========\n",
      "Prompt: 11 tokens, 12.639 tokens-per-sec\n",
      "Generation: 256 tokens, 17.457 tokens-per-sec\n",
      "Peak memory: 3.843 GB\n"
     ]
    }
   ],
   "source": [
    "# Generating without adding a prompt template manually\n",
    "prompt='<｜begin▁of▁sentence｜><｜User｜>Why is the sky blue?<｜Assistant｜><think>\\n'\n",
    "response = generate(\n",
    "    model,\n",
    "    tokenizer,\n",
    "    prompt=prompt,\n",
    "    verbose=True,  # Set to True to see the prompt and response\n",
    "    max_tokens=256,\n",
    ")"
   ]
  },
  {
   "cell_type": "code",
   "execution_count": null,
   "metadata": {},
   "outputs": [],
   "source": []
  }
 ],
 "metadata": {
  "kernelspec": {
   "display_name": "3.11.6",
   "language": "python",
   "name": "python3"
  },
  "language_info": {
   "codemirror_mode": {
    "name": "ipython",
    "version": 3
   },
   "file_extension": ".py",
   "mimetype": "text/x-python",
   "name": "python",
   "nbconvert_exporter": "python",
   "pygments_lexer": "ipython3",
   "version": "3.11.6"
  }
 },
 "nbformat": 4,
 "nbformat_minor": 2
}
